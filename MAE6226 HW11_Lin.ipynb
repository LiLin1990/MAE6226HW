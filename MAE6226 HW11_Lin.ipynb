{
 "cells": [
  {
   "cell_type": "code",
   "execution_count": 124,
   "metadata": {
    "collapsed": true
   },
   "outputs": [],
   "source": [
    "import math\n",
    "import numpy as np\n",
    "np.set_printoptions(threshold=np.inf)\n",
    "%matplotlib inline\n",
    "import matplotlib.pyplot as plt\n",
    "from scipy import integrate"
   ]
  },
  {
   "cell_type": "code",
   "execution_count": 125,
   "metadata": {
    "collapsed": true
   },
   "outputs": [],
   "source": [
    "def JT(zeta, c):\n",
    "    \n",
    "    z = zeta+c**2/zeta\n",
    "    \n",
    "    return z"
   ]
  },
  {
   "cell_type": "code",
   "execution_count": 126,
   "metadata": {
    "collapsed": true
   },
   "outputs": [],
   "source": [
    "def Solve_m_delta(H,T):\n",
    "    \n",
    "    delta = math.atan(H/T*3*math.sqrt(3)/2)\n",
    "    if delta<(math.pi/2):\n",
    "        delta = math.pi-delta\n",
    "    m = abs(T/(3*math.sqrt(3))/math.cos(delta))\n",
    "    \n",
    "    return delta, m"
   ]
  },
  {
   "cell_type": "code",
   "execution_count": 127,
   "metadata": {
    "collapsed": true
   },
   "outputs": [],
   "source": [
    "def BuildFoil(delta, m, l, panelnum):\n",
    "    \n",
    "    c = l/4\n",
    "    r0 = math.sqrt(m**2+c**2-2*m*c*math.cos(delta))  \n",
    "    Nr = 1\n",
    "    Ngamma = panelnum*2+1\n",
    "    rn = 0.8\n",
    "    r = np.linspace(r0, rn, Nr)\n",
    "    gamma = np.linspace(0, 2*math.pi, Ngamma)\n",
    "    R, Gamma = np.meshgrid(r, gamma)\n",
    "    zeta = R*np.exp(1j*Gamma)+m*np.exp(1j*delta)\n",
    "    z = JT(zeta, c)\n",
    "    \n",
    "    return z, zeta"
   ]
  },
  {
   "cell_type": "code",
   "execution_count": 128,
   "metadata": {
    "collapsed": true
   },
   "outputs": [],
   "source": [
    "class Panel:\n",
    "    def __init__(self, xa, za, xb, zb):\n",
    "        \n",
    "        self.xa, self.za = xa, za\n",
    "        self.xb, self.zb = xb, zb      \n",
    "        self.xc, self.zc = (xa+xb)/2, (za+zb)/2       \n",
    "        self.length = math.sqrt((xb-xa)**2+(zb-za)**2)     \n",
    "        if xb-xa <= 0.:\n",
    "            self.beta = math.acos((zb-za)/self.length)\n",
    "        elif xb-xa > 0.:\n",
    "            self.beta = math.pi + math.acos(-(zb-za)/self.length)        \n",
    "        self.alpha = self.beta+math.pi/2.0\n",
    "        self.n = [ math.cos(self.beta), math.sin(self.beta)]\n",
    "        self.t = [-math.sin(self.beta) ,math.cos(self.beta)]\n",
    "        "
   ]
  },
  {
   "cell_type": "code",
   "execution_count": 129,
   "metadata": {
    "collapsed": true
   },
   "outputs": [],
   "source": [
    "def doublet_panel_velocity(p,x,z,kappa):\n",
    "\n",
    "    xp =  math.sin(p.beta)*(x-p.xb) - math.cos(p.beta)*(z-p.zb)\n",
    "    zp =  math.cos(p.beta)*(x-p.xb) + math.sin(p.beta)*(z-p.zb)\n",
    "    \n",
    "    up = -kappa/(2.0*math.pi)*(zp/(xp**2.0+zp**2.0)-zp/((xp-p.length)**2.0+zp**2.0))\n",
    "    wp = kappa/(2.0*math.pi)*(xp/(xp**2.0+zp**2.0)-(xp-p.length)/((xp-p.length)**2.0+zp**2.0))\n",
    "    \n",
    "    u =  math.sin(p.beta)*up + math.cos(p.beta)*wp\n",
    "    w = -math.cos(p.beta)*up + math.sin(p.beta)*wp\n",
    "        \n",
    "    return u, w"
   ]
  },
  {
   "cell_type": "code",
   "execution_count": 130,
   "metadata": {
    "collapsed": false
   },
   "outputs": [],
   "source": [
    "def NACA2510_JT(panelnum):\n",
    "    \n",
    "    l = 1\n",
    "    T = 0.10\n",
    "    H = 0.02\n",
    "    delta, m = Solve_m_delta(H,T)\n",
    "    z, zeta = BuildFoil(delta, m, l, panelnum)\n",
    "    pxa = np.zeros(panelnum)\n",
    "    pxb = np.zeros(panelnum)\n",
    "    pza = np.zeros(panelnum)\n",
    "    pzb = np.zeros(panelnum)\n",
    "    for pn in range (int(panelnum*2+1)):\n",
    "        if (pn%2 == 0) and (pn <= panelnum*2-1):\n",
    "            pxa[int(pn/2)] = z[pn].real\n",
    "            pza[int(pn/2)] = z[pn].imag\n",
    "    for pn in range (panelnum-1):\n",
    "        pxb[pn] = pxa[pn+1]\n",
    "        pzb[pn] = pza[pn+1]\n",
    "    pxb[panelnum-1] = pxa[0]\n",
    "    pzb[panelnum-1] = pza[0]\n",
    "    pza[0] = 0.0\n",
    "    pzb[panelnum-2] = 0.0\n",
    "    pza[panelnum-1] = 0.0\n",
    "    pzb[panelnum-1] = 0.0\n",
    "    upnum = int(panelnum/2.0)\n",
    "    dwnum = int(panelnum/2.0)\n",
    "    fsize = 8\n",
    "    plt.figure(figsize=(fsize, fsize))\n",
    "    plt.xlim(-0.6, 0.6)\n",
    "    plt.ylim(-0.6, 0.6)\n",
    "    plt.scatter(pxb,pzb,s = 20, marker = 'x', color = 'red')\n",
    "    plt.scatter(pxa,pza,s = 10,color = 'blue');\n",
    "    plt.grid('on')    \n",
    "    \n",
    "    return pxa,pxb,pza,pzb,upnum,dwnum "
   ]
  },
  {
   "cell_type": "code",
   "execution_count": 131,
   "metadata": {
    "collapsed": false
   },
   "outputs": [
    {
     "name": "stdout",
     "output_type": "stream",
     "text": [
      "A_matrix Determant: 5.41782417678e+33\n",
      "X_vector [ 7.76515957  7.76360394  7.83582672  8.60886102  7.07288254  6.5162582\n",
      "  6.24491989  6.09902467  6.02175492  5.98597369  5.97661171  5.98424128\n",
      "  6.00223843  6.02556321  6.05023856  6.07310568  6.09168968  6.10408443\n",
      "  6.10864138  6.10284057  6.08725367  6.06445086  6.03518783  6.00089716\n",
      "  5.96370941  5.92641939  5.89255266  5.86652928  5.85398835  5.86243473\n",
      "  5.90263599  5.99242057  6.17188624  6.59241218  8.42460036  7.93513838\n",
      "  7.7770617  -0.01190213]\n"
     ]
    },
    {
     "data": {
      "image/png": "[encoded data removed]",
      "text/plain": [
       "<matplotlib.figure.Figure at 0x7f71c21aa0f0>"
      ]
     },
     "metadata": {},
     "output_type": "display_data"
    }
   ],
   "source": [
    "U_inf = 1.0\n",
    "AOA = 2.0/180.0*math.pi\n",
    "panelnum = 38\n",
    "pxa,pxb,pza,pzb,upnum,dwnum = NACA2510_JT(panelnum)\n",
    "N = 500\n",
    "x0,xn = -50.0,50.0\n",
    "z0,zn = -50.0,50.0\n",
    "#z0_eff,zn_eff = -2.5,2.5\n",
    "#x0_eff,xn_eff = -2.5,xn\n",
    "#dz = (zn-z0)/N\n",
    "#dx = (xn-x0)/N\n",
    "#Nz0_eff = int((z0_eff-z0)/dz)\n",
    "#Nzn_eff = int((zn_eff-z0)/dz)\n",
    "#Nx0_eff = int((x0_eff-x0)/dx)\n",
    "#Nxn_eff = int((xn_eff-x0)/dx)\n",
    "#x = np.linspace(x0,xn,N)\n",
    "#z = np.linspace(z0,zn,N)\n",
    "#X,Z = np.meshgrid(x,z)\n",
    "#u = np.ones((N, N), dtype=float)\n",
    "#w = np.ones((N, N), dtype=float)\n",
    "utemp1 = 0.0\n",
    "wtemp1 = 0.0\n",
    "#utemp = np.zeros((N, N), dtype=float)\n",
    "#wtemp = np.zeros((N, N), dtype=float)\n",
    "A_matrix = np.empty((panelnum,panelnum),dtype=float)\n",
    "b_vector = np.zeros(panelnum,dtype=float)\n",
    "x_vector = np.zeros(panelnum,dtype=float)\n",
    "\n",
    "# Merge the Last Two Panels and Add Wake Panel\n",
    "pxb[panelnum-2] = pxb[panelnum-1]\n",
    "pzb[panelnum-2] = pzb[panelnum-1]\n",
    "pxa[panelnum-1] = pxb[panelnum-1]\n",
    "pza[panelnum-1] = pzb[panelnum-1]\n",
    "pxb[panelnum-1] = xn*0.95\n",
    "\n",
    "p = np.empty(panelnum, dtype=object)\n",
    "for pn in range (panelnum):\n",
    "    p[pn] = Panel(pxa[pn],pza[pn],pxb[pn],pzb[pn])\n",
    "    #print(p[pn].xc,p[pn].zc)\n",
    "for pn1 in range (panelnum):\n",
    "    for pn2 in range (panelnum):\n",
    "        utemp1,wtemp1 =  doublet_panel_velocity(p[pn2],p[pn1].xc,p[pn1].zc,1.0)\n",
    "        A_matrix[pn1,pn2] = np.dot([utemp1,wtemp1],p[pn1].n)\n",
    "    b_vector[pn1] = -1.0*np.dot([U_inf*np.cos(AOA),U_inf*np.sin(AOA)],p[pn1].n)\n",
    "for k in range (panelnum):\n",
    "    error = np.abs(A_matrix[k,k] - 2.0/(math.pi*p[k].length))\n",
    "    if (error >= 0.1):\n",
    "        print('Error of A diag:k,error',k,error)\n",
    "    A_matrix[k,k] = 2.0/(math.pi*p[k].length)*1.001\n",
    "A_matrix[panelnum-1,:] = 0.0\n",
    "A_matrix[panelnum-1,0] = 1.0\n",
    "A_matrix[panelnum-1,panelnum-2] = -1.0\n",
    "A_matrix[panelnum-1,panelnum-1] = -1.0\n",
    "print('A_matrix Determant:',np.linalg.det(A_matrix))\n",
    "b_vector[panelnum-1] = 0.0\n",
    "x_vector = np.linalg.solve(A_matrix,b_vector)\n",
    "print('X_vector',x_vector)\n"
   ]
  },
  {
   "cell_type": "code",
   "execution_count": 132,
   "metadata": {
    "collapsed": true
   },
   "outputs": [],
   "source": [
    "#plt.figure(figsize = (8,8))\n",
    "#plt.xlim(-1.0,1.0)\n",
    "#plt.ylim(-1.0,1.0)\n",
    "#u = u*U_inf*np.cos(AOA)\n",
    "#w = w*U_inf*np.sin(AOA)\n",
    "#iteration = 0\n",
    "#for pn in range (panelnum):\n",
    "#    for i in range (Nx0_eff,Nxn_eff):\n",
    "#        for j in range (Nz0_eff,Nzn_eff):\n",
    "#            utemp[i,j], wtemp[i,j] = doublet_panel_velocity(p[pn],X[i,j],Z[i,j],x_vector[pn])\n",
    "#            iteration = iteration + 1\n",
    "#    u = u+utemp\n",
    "#    w = w+wtemp\n",
    "#    px = np.linspace(pxa[pn],pxb[pn],200)\n",
    "#    pz = np.linspace(pza[pn],pzb[pn],200)\n",
    "#    plt.scatter (px,pz,color = 'red',s=0.1)\n",
    "#plt.streamplot (X,Z,u,w,density = 50);"
   ]
  },
  {
   "cell_type": "code",
   "execution_count": 133,
   "metadata": {
    "collapsed": false,
    "scrolled": false
   },
   "outputs": [
    {
     "data": {
      "image/png": "[encoded data removed]",
      "text/plain": [
       "<matplotlib.figure.Figure at 0x7f71be2324a8>"
      ]
     },
     "metadata": {},
     "output_type": "display_data"
    }
   ],
   "source": [
    "vt = np.zeros(panelnum,dtype=float)\n",
    "vn = np.zeros(panelnum,dtype=float)\n",
    "cp = np.zeros(panelnum,dtype=float)\n",
    "xaxis = np.zeros(panelnum,dtype=float)\n",
    "cpup = np.zeros(upnum-1)\n",
    "cpdw = np.zeros(dwnum-1)\n",
    "xup = np.zeros(upnum-1)\n",
    "xdw = np.zeros(dwnum-1)\n",
    "utemp1 = 0.0\n",
    "wtemp1 = 0.0\n",
    "for pn1 in range (1,panelnum-2):\n",
    "    for pn2 in range (panelnum-1):\n",
    "        if pn1 != pn2:\n",
    "            utemp1,wtemp1 =  doublet_panel_velocity(p[pn2],p[pn1].xc,p[pn1].zc,x_vector[pn2])\n",
    "            vt[pn1] = vt[pn1]+np.dot([utemp1,wtemp1],p[pn1].t)\n",
    "        else:\n",
    "            vt[pn1] = vt[pn1]-0.5*(x_vector[pn1+1]-x_vector[pn1-1])/\\\n",
    "            np.sqrt((p[pn1+1].xc-p[pn1-1].xc)**2.0+(p[pn1+1].zc-p[pn1-1].zc)**2.0)\n",
    "    vt[pn1] = vt[pn1]+np.dot([U_inf*np.cos(AOA),U_inf*np.sin(AOA)],p[pn1].t)\n",
    "for pn2 in range (panelnum-1):\n",
    "    if pn2 != 0:\n",
    "        utemp1,wtemp1 =  doublet_panel_velocity(p[pn2],p[0].xc,p[0].zc,x_vector[pn2])\n",
    "        vt[0] = vt[0]+np.dot([utemp1,wtemp1],p[0].t)\n",
    "    else:\n",
    "        vt[0] = vt[0]-0.5*(x_vector[1]-x_vector[0])/np.sqrt((p[1].xc-p[0].xc)**2.0+(p[1].zc-p[0].zc)**2.0)\n",
    "vt[0] = vt[0]+np.dot([U_inf*np.cos(AOA),U_inf*np.sin(AOA)],p[0].t)\n",
    "for pn2 in range (panelnum-1):\n",
    "    if pn2 != (panelnum-2):\n",
    "        utemp1,wtemp1 =  doublet_panel_velocity(p[pn2],p[panelnum-2].xc,p[panelnum-2].zc,x_vector[pn2])\n",
    "        vt[panelnum-2] = vt[panelnum-2]+np.dot([utemp1,wtemp1],p[panelnum-2].t)\n",
    "    else:\n",
    "        vt[panelnum-2] = vt[panelnum-2]-\\\n",
    "            0.5*(x_vector[panelnum-2]-x_vector[panelnum-3])/\\\n",
    "        np.sqrt((p[panelnum-2].xc-p[panelnum-3].xc)**2.0+(p[panelnum-2].zc-p[panelnum-3].zc)**2.0)\n",
    "vt[panelnum-2] = vt[panelnum-2]+np.dot([U_inf*np.cos(AOA),U_inf*np.sin(AOA)],p[panelnum-2].t)\n",
    "vt[panelnum-1] = np.dot([U_inf*np.cos(AOA),U_inf*np.sin(AOA)],p[panelnum-1].t)\n",
    "\n",
    "#print ('Pressure Coeff:  p[pn].xc,p[pn].zc,vt[pn],cp[pn]')\n",
    "for pn in range (panelnum):\n",
    "    cp[pn] = 1.0-(vt[pn]**2.0)/(U_inf**2.0)\n",
    "    xaxis[pn] = p[pn].xc\n",
    "    #print ('Pressure Coeff:',p[pn].xc,p[pn].zc,vt[pn],cp[pn])\n",
    "xaxis[panelnum-1] = 1.0\n",
    "cp[panelnum-1] = 0.0\n",
    "    \n",
    "for pn in range (upnum-1):\n",
    "    cpup[pn] = cp[pn]\n",
    "    xup[pn] = xaxis[pn]\n",
    "for pn in range (dwnum-1):\n",
    "    cpdw[pn] = cp[pn+upnum]\n",
    "    xdw[pn] = xaxis[pn+upnum]\n",
    "plt.figure(figsize = (10,6))\n",
    "plt.scatter(xup,cpup,color = 'green')\n",
    "plt.scatter(xdw,cpdw,color = 'red')\n",
    "plt.grid('on')\n",
    "plt.gca().invert_yaxis()\n",
    "plt.xlabel('$x$', fontsize=16)\n",
    "plt.ylabel('$C_p$', fontsize=16)\n",
    "plt.ylim(1.2,-1.2)\n",
    "\n",
    "# Exact Solutions:\n",
    "# Define polar grid\n",
    "ngr = 12;\n",
    "ngtheta = panelnum\n",
    "\n",
    "# airfoil properties\n",
    "c = 1\n",
    "T = 0.10\n",
    "H = 0.02\n",
    "a = c/4\n",
    "r_s = (0.25+T/(3*math.sqrt(3)))\n",
    "zeta_c = -4*a/(3*math.sqrt(3))*T + 1j*2*a*H\n",
    "\n",
    "theta = np.radians(np.linspace(0,360,ngtheta));\n",
    "r = np.linspace(r_s,2*r_s,ngr);\n",
    "\n",
    "R, Theta = np.meshgrid(r, theta)\n",
    "Zeta = R*np.exp(1j*Theta)\n",
    "\n",
    "# flow parameters\n",
    "Uinf = U_inf                                     # free stream velocity\n",
    "al = AOA                                       # angle of attack\n",
    "kappa = 2*math.pi*Uinf*r_s**2                  # doublet strength for circle with radius r_s\n",
    "Gam = 4*math.pi*r_s*Uinf*np.sin(al+2*H)     # vortex strength\n",
    "\n",
    "# compute the complex potential on the mesh grid and complex velocity on the surface\n",
    "W = Uinf*Zeta + kappa/(2*math.pi)/Zeta + 1j*Gam/(2*math.pi)*np.log(Zeta)\n",
    "w = Uinf - kappa/(2*math.pi)/Zeta[:,0]**2 + 1j*Gam/(2*math.pi)/Zeta[:,0]\n",
    "Zeta = Zeta*np.exp(1j*al)\n",
    "\n",
    "# Joukowski transformation\n",
    "Z = (Zeta+zeta_c) + a**2/(Zeta+zeta_c)\n",
    "w = w/(1 - a**2/(Zeta[:,0]+zeta_c)**2)\n",
    "#print('Ideal Vt')\n",
    "#print(np.abs(w))\n",
    "cp_ex = 1 - np.abs(w)**2/Uinf**2\n",
    "plt.plot(Z.real[:25,0],cp_ex[:25],'b')\n",
    "plt.plot(Z.real[25:,0],cp_ex[25:],'b');"
   ]
  },
  {
   "cell_type": "code",
   "execution_count": 134,
   "metadata": {
    "collapsed": false,
    "scrolled": false
   },
   "outputs": [
    {
     "name": "stdout",
     "output_type": "stream",
     "text": [
      "Normal Velocity Error:\n",
      "0 -0.435467453071\n",
      "1 -0.187641735018\n",
      "2 -0.124543399668\n",
      "3 -0.10524061534\n",
      "4 -0.0724879110731\n",
      "5 -0.0592600378954\n",
      "6 -0.0525419910527\n",
      "7 -0.0490731049787\n",
      "8 -0.0476513720745\n",
      "9 -0.0477694848742\n",
      "10 -0.0492558142744\n",
      "11 -0.0521635907155\n",
      "12 -0.056767362332\n",
      "13 -0.0636526583703\n",
      "14 -0.0739598248744\n",
      "15 -0.0899959402832\n",
      "16 -0.116914846744\n",
      "17 -0.167865527548\n",
      "18 -0.274200101532\n",
      "19 -0.339551712221\n",
      "20 -0.209080935369\n",
      "21 -0.133380110163\n",
      "22 -0.0963412648442\n",
      "23 -0.0756003066168\n",
      "24 -0.0628056836189\n",
      "25 -0.0544802644524\n",
      "26 -0.048990355092\n",
      "27 -0.0455163519856\n",
      "28 -0.0436620299346\n",
      "29 -0.0433048002759\n",
      "30 -0.0445673045138\n",
      "31 -0.0479029598722\n",
      "32 -0.0544429471298\n",
      "33 -0.0675936829028\n",
      "34 -0.107835758282\n",
      "35 -0.141929136264\n",
      "36 -0.200866886151\n",
      "37 -0.0350088256004\n"
     ]
    }
   ],
   "source": [
    "print('Normal Velocity Error:')\n",
    "vn = np.zeros(panelnum,dtype=float)\n",
    "utemp1 = 0.0\n",
    "wtemp1 = 0.0\n",
    "for pn1 in range (panelnum):\n",
    "    for pn2 in range (panelnum):\n",
    "        utemp1,wtemp1 =  doublet_panel_velocity(p[pn2],p[pn1].xc,p[pn1].zc,x_vector[pn2])\n",
    "        vn[pn1] = vn[pn1]+np.dot([utemp1,wtemp1],p[pn1].n)\n",
    "    vn[pn1] = vn[pn1]+np.dot([U_inf*np.cos(AOA),U_inf*np.sin(AOA)],p[pn1].n)\n",
    "    if np.abs(vn[pn1])>=0.01:\n",
    "        print(pn1,vn[pn1])\n"
   ]
  },
  {
   "cell_type": "code",
   "execution_count": null,
   "metadata": {
    "collapsed": true
   },
   "outputs": [],
   "source": []
  }
 ],
 "metadata": {
  "kernelspec": {
   "display_name": "Python 3",
   "language": "python",
   "name": "python3"
  },
  "language_info": {
   "codemirror_mode": {
    "name": "ipython",
    "version": 3
   },
   "file_extension": ".py",
   "mimetype": "text/x-python",
   "name": "python",
   "nbconvert_exporter": "python",
   "pygments_lexer": "ipython3",
   "version": "3.4.4"
  }
 },
 "nbformat": 4,
 "nbformat_minor": 0
}
